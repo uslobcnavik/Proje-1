{
 "cells": [
  {
   "cell_type": "code",
   "execution_count": 2,
   "id": "bda99d09",
   "metadata": {},
   "outputs": [],
   "source": [
    "import tkinter as tk\n",
    "from tkinter import ttk, messagebox\n",
    "\n",
    "class CRMUygulamasi(tk.Tk):\n",
    "    def __init__(self):\n",
    "        super().__init__()\n",
    "        self.title('Müşteri İlişkileri Yönetimi')\n",
    "        self.geometry('600x400')\n",
    "        self.configure(bg='#b7e7ed')\n",
    "        self.arayuzu_ayarla()\n",
    "\n",
    "    def arayuzu_ayarla(self):\n",
    "        self.stil = ttk.Style()\n",
    "        self.stil.theme_use('clam')\n",
    "        self.stil.configure('TButton', background='#5C6BC0', foreground='white', font=('Arial', 12, 'bold'))\n",
    "        self.stil.configure('TLabel', background='#ebd5b5', font=('Arial', 12))\n",
    "        self.stil.configure('TEntry', font=('Arial', 12), width=20)\n",
    "        \n",
    "        ttk.Label(self, text='Müşteri Adı:').grid(row=0, column=0, padx=10, pady=10)\n",
    "        self.musteri_adi_girisi = ttk.Entry(self)\n",
    "        self.musteri_adi_girisi.grid(row=0, column=1, padx=10, pady=10)\n",
    "\n",
    "        self.musteri_ekle_butonu = ttk.Button(self, text='Müşteri Ekle', command=self.musteri_ekle)\n",
    "        self.musteri_ekle_butonu.grid(row=0, column=2, padx=10, pady=10)\n",
    "\n",
    "        ttk.Label(self, text='Satış Numarası:').grid(row=1, column=0, padx=10, pady=10)\n",
    "        self.satis_numarasi_girisi = ttk.Entry(self)\n",
    "        self.satis_numarasi_girisi.grid(row=1, column=1, padx=10, pady=10)\n",
    "\n",
    "        self.satislari_takip_et_butonu = ttk.Button(self, text='Satışı Takip Et', command=self.satislari_takip_et)\n",
    "        self.satislari_takip_et_butonu.grid(row=1, column=2, padx=10, pady=10)\n",
    "\n",
    "        \n",
    "        ttk.Label(self, text='Talep Numarası:').grid(row=2, column=0, padx=10, pady=10)\n",
    "        self.talep_numarasi_girisi = ttk.Entry(self)\n",
    "        self.talep_numarasi_girisi.grid(row=2, column=1, padx=10, pady=10)\n",
    "\n",
    "        self.talepleri_yonet_butonu = ttk.Button(self, text='Talepleri Yönet', command=self.talepleri_yonet)\n",
    "        self.talepleri_yonet_butonu.grid(row=2, column=2, padx=10, pady=10)\n",
    "\n",
    "    def musteri_ekle(self):\n",
    "        messagebox.showinfo(\"Başarılı\", \"Müşteri başarıyla eklendi\")\n",
    "\n",
    "    def satislari_takip_et(self):\n",
    "        messagebox.showinfo(\"Başarılı\", \"Satış takibi yapıldı\")\n",
    "\n",
    "    def talepleri_yonet(self):\n",
    "        messagebox.showinfo(\"Başarılı\", \"Destek talepleri yönetildi\")\n",
    "\n",
    "if __name__ == \"__main__\":\n",
    "    uygulama = CRMUygulamasi()\n",
    "    uygulama.mainloop()\n"
   ]
  },
  {
   "cell_type": "code",
   "execution_count": null,
   "id": "db8d7b78",
   "metadata": {},
   "outputs": [],
   "source": []
  }
 ],
 "metadata": {
  "kernelspec": {
   "display_name": "Python 3 (ipykernel)",
   "language": "python",
   "name": "python3"
  },
  "language_info": {
   "codemirror_mode": {
    "name": "ipython",
    "version": 3
   },
   "file_extension": ".py",
   "mimetype": "text/x-python",
   "name": "python",
   "nbconvert_exporter": "python",
   "pygments_lexer": "ipython3",
   "version": "3.11.5"
  }
 },
 "nbformat": 4,
 "nbformat_minor": 5
}
